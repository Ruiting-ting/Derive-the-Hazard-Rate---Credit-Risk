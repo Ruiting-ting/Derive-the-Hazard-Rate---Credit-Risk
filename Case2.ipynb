{
 "cells": [
  {
   "cell_type": "code",
   "execution_count": 2,
   "metadata": {},
   "outputs": [
    {
     "name": "stdout",
     "output_type": "stream",
     "text": [
      "Requirement already satisfied: QuantLib-Python in c:\\users\\ruiting liu\\anaconda3\\lib\\site-packages (1.18)\n",
      "Requirement already satisfied: QuantLib in c:\\users\\ruiting liu\\anaconda3\\lib\\site-packages (from QuantLib-Python) (1.20)\n"
     ]
    }
   ],
   "source": [
    "!pip install QuantLib-Python"
   ]
  },
  {
   "cell_type": "markdown",
   "metadata": {},
   "source": [
    "#### The first Method"
   ]
  },
  {
   "cell_type": "code",
   "execution_count": 3,
   "metadata": {},
   "outputs": [],
   "source": [
    "import numpy as np \n",
    "import math \n",
    "import pandas as pd\n",
    "import warnings\n",
    "warnings.filterwarnings('ignore')\n",
    "import matplotlib.pyplot as plt"
   ]
  },
  {
   "cell_type": "code",
   "execution_count": 4,
   "metadata": {},
   "outputs": [
    {
     "name": "stdout",
     "output_type": "stream",
     "text": [
      "Calibrated hazard rate values: \n",
      "hazard rate on May 15th, 2007 is 0.0533004\n",
      "hazard rate on June 20th, 2008 is 0.0533004\n",
      "hazard rate on June 21st, 2010 is 0.0640219\n",
      "hazard rate on June 20th, 2012 is 0.0791497\n",
      "hazard rate on June 20th, 2014 is 0.0813651\n",
      "hazard rate on June 20th, 2017 is 0.1360746\n"
     ]
    }
   ],
   "source": [
    "import QuantLib as ql\n",
    "\n",
    "calendar = ql.TARGET()\n",
    "todaysDate = ql.Date(15, ql.May, 2007)\n",
    "ql.Settings.instance().evaluationDate = todaysDate\n",
    "\n",
    "risk_free_rate = ql.YieldTermStructureHandle(ql.FlatForward(todaysDate, 0.005, ql.Actual360(), ql.Compounded, ql.Quarterly))\n",
    "\n",
    "# ### CDS parameters\n",
    "\n",
    "recovery_rate = 0.7\n",
    "quoted_spreads = [0.0160, 0.0180, 0.0200, 0.0210, 0.0250]\n",
    "tenors = [ql.Period(1, ql.Years),ql.Period(3, ql.Years),ql.Period(5, ql.Years),ql.Period(7, ql.Years), ql.Period(10, ql.Years)]\n",
    "maturities = [calendar.adjust(todaysDate + x, ql.Following) for x in tenors]\n",
    "\n",
    "instruments = [\n",
    "    ql.SpreadCdsHelper(\n",
    "        ql.QuoteHandle(ql.SimpleQuote(s)),\n",
    "        tenor,\n",
    "        0,\n",
    "        calendar,\n",
    "        ql.Quarterly,\n",
    "        ql.Following,\n",
    "        ql.DateGeneration.TwentiethIMM,\n",
    "        ql.Actual360(),\n",
    "        recovery_rate,\n",
    "        risk_free_rate,\n",
    "    )\n",
    "    for s, tenor in zip(quoted_spreads, tenors)\n",
    "]\n",
    "\n",
    "hazard_curve = ql.PiecewiseFlatHazardRate(todaysDate, instruments, ql.Actual360())\n",
    "print(\"Calibrated hazard rate values: \")\n",
    "\n",
    "for x in hazard_curve.nodes():\n",
    "    print(\"hazard rate on %s is %.7f\" % x)"
   ]
  },
  {
   "cell_type": "code",
   "execution_count": 5,
   "metadata": {},
   "outputs": [
    {
     "data": {
      "text/plain": [
       "<QuantLib.QuantLib.PiecewiseFlatHazardRate; proxy of <Swig Object of type 'ext::shared_ptr< PiecewiseFlatHazardRate > *' at 0x000001D2034D6FC0> >"
      ]
     },
     "execution_count": 5,
     "metadata": {},
     "output_type": "execute_result"
    }
   ],
   "source": [
    "hazard_curve"
   ]
  },
  {
   "cell_type": "code",
   "execution_count": 9,
   "metadata": {},
   "outputs": [],
   "source": [
    "df = pd.DataFrame( hazard_curve.nodes() )\n",
    "df[0] = np.array([0, 1,3,5,7,10])\n",
    "df = df.rename(columns = {0:\"Time\",1:'Forward Hazard Rate'}) "
   ]
  },
  {
   "cell_type": "code",
   "execution_count": 10,
   "metadata": {},
   "outputs": [
    {
     "data": {
      "text/html": [
       "<div>\n",
       "<style scoped>\n",
       "    .dataframe tbody tr th:only-of-type {\n",
       "        vertical-align: middle;\n",
       "    }\n",
       "\n",
       "    .dataframe tbody tr th {\n",
       "        vertical-align: top;\n",
       "    }\n",
       "\n",
       "    .dataframe thead th {\n",
       "        text-align: right;\n",
       "    }\n",
       "</style>\n",
       "<table border=\"1\" class=\"dataframe\">\n",
       "  <thead>\n",
       "    <tr style=\"text-align: right;\">\n",
       "      <th></th>\n",
       "      <th>Time</th>\n",
       "      <th>Forward Hazard Rate</th>\n",
       "    </tr>\n",
       "  </thead>\n",
       "  <tbody>\n",
       "    <tr>\n",
       "      <th>0</th>\n",
       "      <td>0</td>\n",
       "      <td>0.053300</td>\n",
       "    </tr>\n",
       "    <tr>\n",
       "      <th>1</th>\n",
       "      <td>1</td>\n",
       "      <td>0.053300</td>\n",
       "    </tr>\n",
       "    <tr>\n",
       "      <th>2</th>\n",
       "      <td>3</td>\n",
       "      <td>0.064022</td>\n",
       "    </tr>\n",
       "    <tr>\n",
       "      <th>3</th>\n",
       "      <td>5</td>\n",
       "      <td>0.079150</td>\n",
       "    </tr>\n",
       "    <tr>\n",
       "      <th>4</th>\n",
       "      <td>7</td>\n",
       "      <td>0.081365</td>\n",
       "    </tr>\n",
       "    <tr>\n",
       "      <th>5</th>\n",
       "      <td>10</td>\n",
       "      <td>0.136075</td>\n",
       "    </tr>\n",
       "  </tbody>\n",
       "</table>\n",
       "</div>"
      ],
      "text/plain": [
       "   Time  Forward Hazard Rate\n",
       "0     0             0.053300\n",
       "1     1             0.053300\n",
       "2     3             0.064022\n",
       "3     5             0.079150\n",
       "4     7             0.081365\n",
       "5    10             0.136075"
      ]
     },
     "execution_count": 10,
     "metadata": {},
     "output_type": "execute_result"
    }
   ],
   "source": [
    "df"
   ]
  },
  {
   "cell_type": "code",
   "execution_count": 11,
   "metadata": {},
   "outputs": [],
   "source": [
    "df['Forward Hazard Rate'][0] = 0\n",
    "df['Survival'] = 1.0\n",
    "df['Time_diff'] = df['Time'].diff()"
   ]
  },
  {
   "cell_type": "code",
   "execution_count": 12,
   "metadata": {},
   "outputs": [
    {
     "data": {
      "text/html": [
       "<div>\n",
       "<style scoped>\n",
       "    .dataframe tbody tr th:only-of-type {\n",
       "        vertical-align: middle;\n",
       "    }\n",
       "\n",
       "    .dataframe tbody tr th {\n",
       "        vertical-align: top;\n",
       "    }\n",
       "\n",
       "    .dataframe thead th {\n",
       "        text-align: right;\n",
       "    }\n",
       "</style>\n",
       "<table border=\"1\" class=\"dataframe\">\n",
       "  <thead>\n",
       "    <tr style=\"text-align: right;\">\n",
       "      <th></th>\n",
       "      <th>Time</th>\n",
       "      <th>Forward Hazard Rate</th>\n",
       "      <th>Survival</th>\n",
       "      <th>Time_diff</th>\n",
       "    </tr>\n",
       "  </thead>\n",
       "  <tbody>\n",
       "    <tr>\n",
       "      <th>0</th>\n",
       "      <td>0</td>\n",
       "      <td>0.000000</td>\n",
       "      <td>1.0</td>\n",
       "      <td>NaN</td>\n",
       "    </tr>\n",
       "    <tr>\n",
       "      <th>1</th>\n",
       "      <td>1</td>\n",
       "      <td>0.053300</td>\n",
       "      <td>1.0</td>\n",
       "      <td>1.0</td>\n",
       "    </tr>\n",
       "    <tr>\n",
       "      <th>2</th>\n",
       "      <td>3</td>\n",
       "      <td>0.064022</td>\n",
       "      <td>1.0</td>\n",
       "      <td>2.0</td>\n",
       "    </tr>\n",
       "    <tr>\n",
       "      <th>3</th>\n",
       "      <td>5</td>\n",
       "      <td>0.079150</td>\n",
       "      <td>1.0</td>\n",
       "      <td>2.0</td>\n",
       "    </tr>\n",
       "    <tr>\n",
       "      <th>4</th>\n",
       "      <td>7</td>\n",
       "      <td>0.081365</td>\n",
       "      <td>1.0</td>\n",
       "      <td>2.0</td>\n",
       "    </tr>\n",
       "    <tr>\n",
       "      <th>5</th>\n",
       "      <td>10</td>\n",
       "      <td>0.136075</td>\n",
       "      <td>1.0</td>\n",
       "      <td>3.0</td>\n",
       "    </tr>\n",
       "  </tbody>\n",
       "</table>\n",
       "</div>"
      ],
      "text/plain": [
       "   Time  Forward Hazard Rate  Survival  Time_diff\n",
       "0     0             0.000000       1.0        NaN\n",
       "1     1             0.053300       1.0        1.0\n",
       "2     3             0.064022       1.0        2.0\n",
       "3     5             0.079150       1.0        2.0\n",
       "4     7             0.081365       1.0        2.0\n",
       "5    10             0.136075       1.0        3.0"
      ]
     },
     "execution_count": 12,
     "metadata": {},
     "output_type": "execute_result"
    }
   ],
   "source": [
    "df"
   ]
  },
  {
   "cell_type": "code",
   "execution_count": 379,
   "metadata": {},
   "outputs": [
    {
     "data": {
      "text/html": [
       "<div>\n",
       "<style scoped>\n",
       "    .dataframe tbody tr th:only-of-type {\n",
       "        vertical-align: middle;\n",
       "    }\n",
       "\n",
       "    .dataframe tbody tr th {\n",
       "        vertical-align: top;\n",
       "    }\n",
       "\n",
       "    .dataframe thead th {\n",
       "        text-align: right;\n",
       "    }\n",
       "</style>\n",
       "<table border=\"1\" class=\"dataframe\">\n",
       "  <thead>\n",
       "    <tr style=\"text-align: right;\">\n",
       "      <th></th>\n",
       "      <th>Time</th>\n",
       "      <th>CDS Rate (in bps)</th>\n",
       "      <th>Forward Hazard Rate</th>\n",
       "      <th>Cumulative Hazard Rate</th>\n",
       "      <th>Cumulative Default Probability</th>\n",
       "    </tr>\n",
       "  </thead>\n",
       "  <tbody>\n",
       "    <tr>\n",
       "      <th>1</th>\n",
       "      <td>1</td>\n",
       "      <td>160</td>\n",
       "      <td>0.053300</td>\n",
       "      <td>0.053300</td>\n",
       "      <td>0.051905</td>\n",
       "    </tr>\n",
       "    <tr>\n",
       "      <th>2</th>\n",
       "      <td>3</td>\n",
       "      <td>180</td>\n",
       "      <td>0.064022</td>\n",
       "      <td>0.060448</td>\n",
       "      <td>0.165852</td>\n",
       "    </tr>\n",
       "    <tr>\n",
       "      <th>3</th>\n",
       "      <td>5</td>\n",
       "      <td>200</td>\n",
       "      <td>0.079150</td>\n",
       "      <td>0.067929</td>\n",
       "      <td>0.287976</td>\n",
       "    </tr>\n",
       "    <tr>\n",
       "      <th>4</th>\n",
       "      <td>7</td>\n",
       "      <td>210</td>\n",
       "      <td>0.081365</td>\n",
       "      <td>0.071768</td>\n",
       "      <td>0.394907</td>\n",
       "    </tr>\n",
       "    <tr>\n",
       "      <th>5</th>\n",
       "      <td>10</td>\n",
       "      <td>250</td>\n",
       "      <td>0.136075</td>\n",
       "      <td>0.091060</td>\n",
       "      <td>0.597716</td>\n",
       "    </tr>\n",
       "  </tbody>\n",
       "</table>\n",
       "</div>"
      ],
      "text/plain": [
       "   Time  CDS Rate (in bps)  Forward Hazard Rate  Cumulative Hazard Rate  \\\n",
       "1     1                160             0.053300                0.053300   \n",
       "2     3                180             0.064022                0.060448   \n",
       "3     5                200             0.079150                0.067929   \n",
       "4     7                210             0.081365                0.071768   \n",
       "5    10                250             0.136075                0.091060   \n",
       "\n",
       "   Cumulative Default Probability  \n",
       "1                        0.051905  \n",
       "2                        0.165852  \n",
       "3                        0.287976  \n",
       "4                        0.394907  \n",
       "5                        0.597716  "
      ]
     },
     "execution_count": 379,
     "metadata": {},
     "output_type": "execute_result"
    }
   ],
   "source": [
    "df['Forward Hazard Rate'][0] = 0\n",
    "df['Survival'] = 1.0\n",
    "df['Time_diff'] = df['Time'].diff()\n",
    "for i in range(1,6):\n",
    "    df['Survival'][i] = np.exp(-df['Forward Hazard Rate'][i] * df['Time_diff'][i]) * df['Survival'][i-1]\n",
    "df['Survival'] = pd.to_numeric(df['Survival'],downcast='float')\n",
    "df['Cumulative Default Probability'] = 1 - df['Survival']\n",
    "df['Cumulative Hazard Rate'] = -np.log(df['Survival']) / df['Time']\n",
    "df['CDS Rate (in bps)'] = np.array([0,160,180,200,210,250])\n",
    "df = df.drop([0])\n",
    "cols = ['Time', 'CDS Rate (in bps)', 'Forward Hazard Rate', 'Cumulative Hazard Rate','Cumulative Default Probability']\n",
    "df = df[cols]\n",
    "df"
   ]
  },
  {
   "cell_type": "code",
   "execution_count": 385,
   "metadata": {},
   "outputs": [
    {
     "data": {
      "text/html": [
       "<div>\n",
       "<style scoped>\n",
       "    .dataframe tbody tr th:only-of-type {\n",
       "        vertical-align: middle;\n",
       "    }\n",
       "\n",
       "    .dataframe tbody tr th {\n",
       "        vertical-align: top;\n",
       "    }\n",
       "\n",
       "    .dataframe thead th {\n",
       "        text-align: right;\n",
       "    }\n",
       "</style>\n",
       "<table border=\"1\" class=\"dataframe\">\n",
       "  <thead>\n",
       "    <tr style=\"text-align: right;\">\n",
       "      <th></th>\n",
       "      <th>Time</th>\n",
       "      <th>CDS Rate</th>\n",
       "      <th>Lambda Cumulative</th>\n",
       "      <th>Q(t&gt;T)</th>\n",
       "      <th>Forward hazard Rate</th>\n",
       "      <th>Default Probability</th>\n",
       "    </tr>\n",
       "  </thead>\n",
       "  <tbody>\n",
       "    <tr>\n",
       "      <th>0</th>\n",
       "      <td>1</td>\n",
       "      <td>0.016</td>\n",
       "      <td>0.053333</td>\n",
       "      <td>0.948064</td>\n",
       "      <td>0.053333</td>\n",
       "      <td>0.051936</td>\n",
       "    </tr>\n",
       "    <tr>\n",
       "      <th>1</th>\n",
       "      <td>3</td>\n",
       "      <td>0.018</td>\n",
       "      <td>0.060000</td>\n",
       "      <td>0.835270</td>\n",
       "      <td>0.063333</td>\n",
       "      <td>0.164730</td>\n",
       "    </tr>\n",
       "    <tr>\n",
       "      <th>2</th>\n",
       "      <td>5</td>\n",
       "      <td>0.020</td>\n",
       "      <td>0.066667</td>\n",
       "      <td>0.716531</td>\n",
       "      <td>0.076667</td>\n",
       "      <td>0.283469</td>\n",
       "    </tr>\n",
       "    <tr>\n",
       "      <th>3</th>\n",
       "      <td>7</td>\n",
       "      <td>0.021</td>\n",
       "      <td>0.070000</td>\n",
       "      <td>0.612626</td>\n",
       "      <td>0.078333</td>\n",
       "      <td>0.387374</td>\n",
       "    </tr>\n",
       "    <tr>\n",
       "      <th>4</th>\n",
       "      <td>10</td>\n",
       "      <td>0.025</td>\n",
       "      <td>0.083333</td>\n",
       "      <td>0.434598</td>\n",
       "      <td>0.114444</td>\n",
       "      <td>0.565402</td>\n",
       "    </tr>\n",
       "  </tbody>\n",
       "</table>\n",
       "</div>"
      ],
      "text/plain": [
       "   Time  CDS Rate  Lambda Cumulative    Q(t>T)  Forward hazard Rate  \\\n",
       "0     1     0.016           0.053333  0.948064             0.053333   \n",
       "1     3     0.018           0.060000  0.835270             0.063333   \n",
       "2     5     0.020           0.066667  0.716531             0.076667   \n",
       "3     7     0.021           0.070000  0.612626             0.078333   \n",
       "4    10     0.025           0.083333  0.434598             0.114444   \n",
       "\n",
       "   Default Probability  \n",
       "0             0.051936  \n",
       "1             0.164730  \n",
       "2             0.283469  \n",
       "3             0.387374  \n",
       "4             0.565402  "
      ]
     },
     "execution_count": 385,
     "metadata": {},
     "output_type": "execute_result"
    }
   ],
   "source": [
    "df_simple = pd.read_excel('D:\\QRM_Program\\Credit\\case2\\Simple_Method.xlsx')\n",
    "df_simple"
   ]
  },
  {
   "cell_type": "code",
   "execution_count": 404,
   "metadata": {},
   "outputs": [
    {
     "data": {
      "image/png": "[encoded data removed]",
      "text/plain": [
       "<Figure size 432x288 with 1 Axes>"
      ]
     },
     "metadata": {
      "needs_background": "light"
     },
     "output_type": "display_data"
    }
   ],
   "source": [
    "X = np.array(df['Time'])\n",
    "Y1 = np.array(df_simple['Forward hazard Rate'])\n",
    "Y2 = np.array(df['Forward Hazard Rate'])\n",
    "plt.plot(X, Y1,label = 'Continuous Premium Payments')\n",
    "plt.plot(X, Y2,label = 'Quarterly Premium Payments')\n",
    "plt.xlabel('Maturity')\n",
    "plt.ylabel('Forward Hazard Rate')\n",
    "plt.legend()\n",
    "plt.title('Cumulative Forward Hazard Rates with Method 1 and 2')\n",
    "plt.savefig('CumulativeForwardHazardRateswithMethod1and2.jpeg',format='jpeg')\n",
    "plt.show()"
   ]
  },
  {
   "cell_type": "code",
   "execution_count": 380,
   "metadata": {},
   "outputs": [
    {
     "name": "stdout",
     "output_type": "stream",
     "text": [
      "\\begin{tabular}{rrrrr}\n",
      "\\toprule\n",
      " Time &  CDS Rate (in bps) &  Forward Hazard Rate &  Cumulative Hazard Rate &  Cumulative Default Probability \\\\\n",
      "\\midrule\n",
      "    1 &                160 &               0.0533 &                  0.0533 &                          0.0519 \\\\\n",
      "    3 &                180 &               0.0640 &                  0.0604 &                          0.1659 \\\\\n",
      "    5 &                200 &               0.0791 &                  0.0679 &                          0.2880 \\\\\n",
      "    7 &                210 &               0.0814 &                  0.0718 &                          0.3949 \\\\\n",
      "   10 &                250 &               0.1361 &                  0.0911 &                          0.5977 \\\\\n",
      "\\bottomrule\n",
      "\\end{tabular}\n",
      "\n"
     ]
    }
   ],
   "source": [
    "print( df.to_latex(float_format=\"%.4f\",index=False ) )"
   ]
  },
  {
   "cell_type": "code",
   "execution_count": null,
   "metadata": {},
   "outputs": [],
   "source": []
  },
  {
   "cell_type": "code",
   "execution_count": null,
   "metadata": {},
   "outputs": [],
   "source": []
  },
  {
   "cell_type": "code",
   "execution_count": null,
   "metadata": {},
   "outputs": [],
   "source": []
  },
  {
   "cell_type": "code",
   "execution_count": null,
   "metadata": {},
   "outputs": [],
   "source": []
  }
 ],
 "metadata": {
  "kernelspec": {
   "display_name": "Python 3",
   "language": "python",
   "name": "python3"
  },
  "language_info": {
   "codemirror_mode": {
    "name": "ipython",
    "version": 3
   },
   "file_extension": ".py",
   "mimetype": "text/x-python",
   "name": "python",
   "nbconvert_exporter": "python",
   "pygments_lexer": "ipython3",
   "version": "3.8.5"
  }
 },
 "nbformat": 4,
 "nbformat_minor": 4
}
